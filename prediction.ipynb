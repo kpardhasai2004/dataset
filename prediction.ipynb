{
  "nbformat": 4,
  "nbformat_minor": 0,
  "metadata": {
    "colab": {
      "provenance": []
    },
    "kernelspec": {
      "name": "python3",
      "display_name": "Python 3"
    },
    "language_info": {
      "name": "python"
    }
  },
  "cells": [
    {
      "cell_type": "code",
      "source": [
        "!pip install pandas scikit-learn"
      ],
      "metadata": {
        "colab": {
          "base_uri": "https://localhost:8080/"
        },
        "id": "8g2Lqlp1hlnf",
        "outputId": "7a395f25-90d5-473e-890a-d15ad2cebd5e"
      },
      "execution_count": 1,
      "outputs": [
        {
          "output_type": "stream",
          "name": "stdout",
          "text": [
            "Requirement already satisfied: pandas in /usr/local/lib/python3.11/dist-packages (2.2.2)\n",
            "Requirement already satisfied: scikit-learn in /usr/local/lib/python3.11/dist-packages (1.6.1)\n",
            "Requirement already satisfied: numpy>=1.23.2 in /usr/local/lib/python3.11/dist-packages (from pandas) (2.0.2)\n",
            "Requirement already satisfied: python-dateutil>=2.8.2 in /usr/local/lib/python3.11/dist-packages (from pandas) (2.9.0.post0)\n",
            "Requirement already satisfied: pytz>=2020.1 in /usr/local/lib/python3.11/dist-packages (from pandas) (2025.2)\n",
            "Requirement already satisfied: tzdata>=2022.7 in /usr/local/lib/python3.11/dist-packages (from pandas) (2025.2)\n",
            "Requirement already satisfied: scipy>=1.6.0 in /usr/local/lib/python3.11/dist-packages (from scikit-learn) (1.16.0)\n",
            "Requirement already satisfied: joblib>=1.2.0 in /usr/local/lib/python3.11/dist-packages (from scikit-learn) (1.5.1)\n",
            "Requirement already satisfied: threadpoolctl>=3.1.0 in /usr/local/lib/python3.11/dist-packages (from scikit-learn) (3.6.0)\n",
            "Requirement already satisfied: six>=1.5 in /usr/local/lib/python3.11/dist-packages (from python-dateutil>=2.8.2->pandas) (1.17.0)\n"
          ]
        }
      ]
    },
    {
      "cell_type": "code",
      "source": [
        "import pandas as pd\n",
        "import random\n",
        "from datetime import datetime, timedelta\n",
        "\n",
        "# Configuration\n",
        "start_date = datetime(2025, 4, 1)\n",
        "end_date = datetime.today()\n",
        "num_days = (end_date - start_date).days + 1  # inclusive of today\n",
        "\n",
        "# Instruments categorized by usage frequency\n",
        "high_usage = ['Piano', 'Guitar']\n",
        "medium_usage = ['Violin', 'Drums', 'Clarinet', 'Saxophone', 'Harp']\n",
        "low_usage = ['Trumpet', 'Flute', 'Cello']\n",
        "\n",
        "all_instruments = high_usage + medium_usage + low_usage\n",
        "\n",
        "# Generate data\n",
        "data = []\n",
        "for day_offset in range(num_days):\n",
        "    date = start_date + timedelta(days=day_offset)\n",
        "    weekday = date.strftime('%A')\n",
        "\n",
        "    for instrument in all_instruments:\n",
        "        if instrument in high_usage:\n",
        "            usage_count = random.randint(5, 8)\n",
        "        elif instrument in medium_usage:\n",
        "            usage_count = random.randint(2, 5)\n",
        "        else:  # low_usage\n",
        "            usage_count = random.randint(0, 2)\n",
        "\n",
        "        data.append({\n",
        "            'date': date.strftime('%Y-%m-%d'),\n",
        "            'weekday': weekday,\n",
        "            'instrument': instrument,\n",
        "            'usage_count': usage_count\n",
        "        })\n",
        "\n",
        "# Create DataFrame\n",
        "df = pd.DataFrame(data)\n",
        "\n",
        "# Save to CSV\n",
        "df.to_csv('instrument_usage.csv', index=False)\n",
        "\n",
        "# Preview first few rows\n",
        "print(df.head(20))\n"
      ],
      "metadata": {
        "colab": {
          "base_uri": "https://localhost:8080/"
        },
        "id": "fNaihS8WhpFO",
        "outputId": "c46fb26e-ed4c-4447-aa3a-6a897724ebf0"
      },
      "execution_count": 8,
      "outputs": [
        {
          "output_type": "stream",
          "name": "stdout",
          "text": [
            "          date    weekday instrument  usage_count\n",
            "0   2025-04-01    Tuesday      Piano            6\n",
            "1   2025-04-01    Tuesday     Guitar            5\n",
            "2   2025-04-01    Tuesday     Violin            4\n",
            "3   2025-04-01    Tuesday      Drums            4\n",
            "4   2025-04-01    Tuesday   Clarinet            2\n",
            "5   2025-04-01    Tuesday  Saxophone            3\n",
            "6   2025-04-01    Tuesday       Harp            5\n",
            "7   2025-04-01    Tuesday    Trumpet            0\n",
            "8   2025-04-01    Tuesday      Flute            0\n",
            "9   2025-04-01    Tuesday      Cello            2\n",
            "10  2025-04-02  Wednesday      Piano            8\n",
            "11  2025-04-02  Wednesday     Guitar            7\n",
            "12  2025-04-02  Wednesday     Violin            4\n",
            "13  2025-04-02  Wednesday      Drums            3\n",
            "14  2025-04-02  Wednesday   Clarinet            4\n",
            "15  2025-04-02  Wednesday  Saxophone            3\n",
            "16  2025-04-02  Wednesday       Harp            5\n",
            "17  2025-04-02  Wednesday    Trumpet            1\n",
            "18  2025-04-02  Wednesday      Flute            0\n",
            "19  2025-04-02  Wednesday      Cello            0\n"
          ]
        }
      ]
    },
    {
      "cell_type": "code",
      "source": [
        "import pandas as pd\n",
        "from sklearn.ensemble import RandomForestClassifier\n",
        "from sklearn.model_selection import train_test_split\n",
        "from sklearn.metrics import classification_report\n",
        "import calendar\n",
        "\n",
        "# Load data\n",
        "df = pd.read_csv('instrument_usage.csv')\n",
        "\n",
        "# Pivot the data\n",
        "pivot = df.pivot_table(index=['date', 'weekday'], columns='instrument', values='usage_count', fill_value=0)\n",
        "pivot = pivot.reset_index()\n",
        "pivot = pd.get_dummies(pivot, columns=['weekday'])\n",
        "\n",
        "# Extract instruments\n",
        "instruments = df['instrument'].unique()\n",
        "\n",
        "# Add target column\n",
        "pivot['target'] = pivot[instruments].idxmax(axis=1)\n",
        "\n",
        "# Create lag features\n",
        "for instr in instruments:\n",
        "    pivot[f'{instr}_lag1'] = pivot[instr].shift(1)\n",
        "\n",
        "# Drop rows with NaNs from lag creation\n",
        "pivot = pivot.dropna().reset_index(drop=True)\n",
        "\n",
        "# Prepare data for training\n",
        "X = pivot.drop(['date', 'target'], axis=1)\n",
        "y = pivot['target']\n",
        "\n",
        "# Save training weekday columns\n",
        "weekday_cols = [col for col in X.columns if col.startswith('weekday_')]\n",
        "\n",
        "# Train/test split\n",
        "X_train, X_test, y_train, y_test = train_test_split(X, y, test_size=0.2, shuffle=False)\n",
        "\n",
        "# Train model\n",
        "clf = RandomForestClassifier(n_estimators=100, random_state=42)\n",
        "clf.fit(X_train, y_train)\n",
        "\n",
        "# Evaluate model\n",
        "y_pred = clf.predict(X_test)\n",
        "print(\"Evaluation:\\n\", classification_report(y_test, y_pred))\n",
        "\n",
        "# ---------------------------------------------\n",
        "# 🔮 Predict for Any Specific Date\n",
        "# ---------------------------------------------\n",
        "\n",
        "def predict_instrument(target_date_str):\n",
        "    target_date = pd.to_datetime(target_date_str)\n",
        "    prev_date = target_date - pd.Timedelta(days=1)\n",
        "    prev_date_str = prev_date.strftime('%Y-%m-%d')\n",
        "    weekday = calendar.day_name[target_date.weekday()]\n",
        "\n",
        "    # Attempt to get previous day's actual lag values\n",
        "    prev_row = pivot[pivot['date'] == prev_date_str]\n",
        "    if not prev_row.empty:\n",
        "        input_row = prev_row[[f'{instr}_lag1' for instr in instruments]].copy()\n",
        "        input_row.columns = [instr for instr in instruments]\n",
        "    else:\n",
        "        # Use average weekday usage if previous day is missing\n",
        "        weekday_df = df[df['weekday'] == weekday].groupby('instrument')['usage_count'].mean()\n",
        "        input_row = pd.DataFrame(columns=instruments)\n",
        "        for instr in instruments:\n",
        "            input_row.at[0, instr] = weekday_df.get(instr, df[df['instrument'] == instr]['usage_count'].mean())\n",
        "\n",
        "    # Add weekday one-hot columns\n",
        "    for col in weekday_cols:\n",
        "        input_row[col] = 1 if col == f'weekday_{weekday}' else 0\n",
        "\n",
        "    # Fill missing weekday columns\n",
        "    for col in X.columns:\n",
        "        if col not in input_row.columns:\n",
        "            input_row[col] = 0\n",
        "\n",
        "    # Match column order\n",
        "    input_row = input_row[X.columns]\n",
        "\n",
        "    # Predict\n",
        "    predicted_instrument = clf.predict(input_row)[0]\n",
        "    print(f\"🎯 Predicted instrument with highest usage on {target_date.date()}: {predicted_instrument}\")\n",
        "\n",
        "# 🔍 Try predicting any date\n",
        "predict_instrument('2025-07-15')\n",
        "predict_instrument('2025-08-01')\n",
        "predict_instrument('2025-09-01')\n"
      ],
      "metadata": {
        "colab": {
          "base_uri": "https://localhost:8080/"
        },
        "id": "crufL0hGhm__",
        "outputId": "bc9f9bab-4c4c-4ff7-85f4-294b50feb8a2"
      },
      "execution_count": 10,
      "outputs": [
        {
          "output_type": "stream",
          "name": "stdout",
          "text": [
            "Evaluation:\n",
            "               precision    recall  f1-score   support\n",
            "\n",
            "      Guitar       0.86      1.00      0.92         6\n",
            "       Piano       1.00      0.94      0.97        17\n",
            "\n",
            "    accuracy                           0.96        23\n",
            "   macro avg       0.93      0.97      0.95        23\n",
            "weighted avg       0.96      0.96      0.96        23\n",
            "\n",
            "🎯 Predicted instrument with highest usage on 2025-07-15: Piano\n",
            "🎯 Predicted instrument with highest usage on 2025-08-01: Guitar\n",
            "🎯 Predicted instrument with highest usage on 2025-09-01: Guitar\n"
          ]
        }
      ]
    },
    {
      "cell_type": "code",
      "source": [],
      "metadata": {
        "id": "ldzNzxXwhp-R"
      },
      "execution_count": null,
      "outputs": []
    }
  ]
}